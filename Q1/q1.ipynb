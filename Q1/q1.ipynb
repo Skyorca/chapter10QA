{
 "cells": [
  {
   "cell_type": "markdown",
   "source": [
    "## Chapter10 作业 代码部分"
   ],
   "metadata": {
    "collapsed": false,
    "pycharm": {
     "name": "#%% md\n"
    }
   }
  },
  {
   "cell_type": "markdown",
   "source": [
    "#### 题目1"
   ],
   "metadata": {
    "collapsed": false,
    "pycharm": {
     "name": "#%% md\n"
    }
   }
  },
  {
   "cell_type": "raw",
   "source": [
    "第一步，加载cora数据集并转换成networkx支持的图数据格式\n",
    "我们选取了torch_geometric包自带的数据集,会在线自动下载。\n",
    "该数据集存储了shape为2*#edge的tensor，需要将其转换为scipy sparse matrix，并调用networkx api转换为图结构。\n",
    "注意，你可以使用其他的方法载入数据集并保存为networkx图。"
   ],
   "metadata": {
    "collapsed": false
   }
  },
  {
   "cell_type": "code",
   "execution_count": 1,
   "outputs": [
    {
     "data": {
      "text/plain": "<networkx.classes.graph.Graph at 0x1eeff8fcac8>"
     },
     "execution_count": 1,
     "metadata": {},
     "output_type": "execute_result"
    }
   ],
   "source": [
    "import networkx as nx\n",
    "from torch_geometric.datasets import CitationFull\n",
    "import scipy.sparse as sp\n",
    "import numpy as np\n",
    "# here code will download cora dataset into 'cora' folder under running directory\n",
    "g = CitationFull(root='cora',name='cora')[0]\n",
    "row = g.edge_index[0,:]\n",
    "col = g.edge_index[1,:]\n",
    "data = np.ones_like(row)\n",
    "n_node = g.x.shape[0]\n",
    "sp_edge = sp.coo_matrix((data,(row,col)),shape=(n_node,n_node))\n",
    "graph = nx.from_scipy_sparse_matrix(sp_edge)\n",
    "graph"
   ],
   "metadata": {
    "collapsed": false,
    "pycharm": {
     "name": "#%%\n"
    }
   }
  },
  {
   "cell_type": "raw",
   "source": [
    "建立度的频次统计，并转换成log以用线性回归拟合参数"
   ],
   "metadata": {
    "collapsed": false,
    "pycharm": {
     "name": "#%% raw\n"
    }
   }
  },
  {
   "cell_type": "code",
   "execution_count": 2,
   "outputs": [
    {
     "name": "stdout",
     "output_type": "stream",
     "text": [
      "[[-2.208172]] [4.59703837]\n"
     ]
    },
    {
     "data": {
      "text/plain": "<Figure size 432x288 with 1 Axes>",
      "image/png": "[encoded data removed]"
     },
     "metadata": {
      "needs_background": "light"
     },
     "output_type": "display_data"
    }
   ],
   "source": [
    "from collections import defaultdict\n",
    "import matplotlib.pyplot as plt\n",
    "from sklearn import linear_model\n",
    "\n",
    "deg = defaultdict(int)\n",
    "for _, d in graph.degree():\n",
    "    deg[d] += 1\n",
    "X = np.array(list(deg.keys())).reshape(-1,1)\n",
    "Y = np.array(list(deg.values())).reshape(-1,1)\n",
    "assert len(X) == len(Y)\n",
    "X = np.log10(X)\n",
    "Y = np.log10(Y)\n",
    "model = linear_model.LinearRegression()\n",
    "model.fit(X=X,y=Y)\n",
    "alpha = model.coef_\n",
    "C = model.intercept_\n",
    "loss = np.mean((alpha*X+C-Y)**2)\n",
    "print(alpha, C)\n",
    "# 可视化\n",
    "plt.title(\"Power-Low on Degree\")\n",
    "plt.scatter(X, Y,  color='black')\n",
    "plt.plot(X, model.predict(X), color='blue',linewidth=3)\n",
    "plt.show()"
   ],
   "metadata": {
    "collapsed": false,
    "pycharm": {
     "name": "#%%\n"
    }
   }
  },
  {
   "cell_type": "markdown",
   "source": [
    "图中三角形计数可以使用定理：$tr(A^3)/6$"
   ],
   "metadata": {
    "collapsed": false,
    "pycharm": {
     "name": "#%% md\n"
    }
   }
  },
  {
   "cell_type": "code",
   "execution_count": 3,
   "outputs": [
    {
     "name": "stderr",
     "output_type": "stream",
     "text": [
      "D:\\anaconda\\envs\\torch\\lib\\site-packages\\scipy\\optimize\\minpack.py:834: OptimizeWarning: Covariance of the parameters could not be estimated\n",
      "  category=OptimizeWarning)\n"
     ]
    },
    {
     "data": {
      "text/plain": "array([1.09035425])"
     },
     "execution_count": 3,
     "metadata": {},
     "output_type": "execute_result"
    }
   ],
   "source": [
    "from scipy.optimize import curve_fit\n",
    "A = nx.to_scipy_sparse_matrix(graph)\n",
    "tri = (A*A*A).diagonal().sum()/6\n",
    "\n",
    "def _func(x,a):\n",
    "    return x**a\n",
    "a,_ = curve_fit(_func,xdata=[n_node], ydata=[tri])\n",
    "a"
   ],
   "metadata": {
    "collapsed": false,
    "pycharm": {
     "name": "#%%\n"
    }
   }
  },
  {
   "cell_type": "markdown",
   "source": [
    "pagerank算法"
   ],
   "metadata": {
    "collapsed": false,
    "pycharm": {
     "name": "#%% md\n"
    }
   }
  },
  {
   "cell_type": "code",
   "execution_count": 4,
   "outputs": [
    {
     "data": {
      "text/plain": "[(14810, 0.002372127786931512),\n (9554, 0.00150743271989963),\n (10332, 0.0011751625220993833)]"
     },
     "execution_count": 4,
     "metadata": {},
     "output_type": "execute_result"
    }
   ],
   "source": [
    "pr = nx.pagerank(graph)\n",
    "pr = sorted(pr.items(), key=lambda x:x[1],reverse=True)\n",
    "pr[:3]"
   ],
   "metadata": {
    "collapsed": false,
    "pycharm": {
     "name": "#%%\n"
    }
   }
  },
  {
   "cell_type": "markdown",
   "source": [
    "首先根据特征矩阵找到最相似和最不相似的节点对"
   ],
   "metadata": {
    "collapsed": false,
    "pycharm": {
     "name": "#%% md\n"
    }
   }
  },
  {
   "cell_type": "code",
   "execution_count": 5,
   "outputs": [
    {
     "name": "stdout",
     "output_type": "stream",
     "text": [
      "feature similarity: max pair:967-903, min pair:21-0\n"
     ]
    }
   ],
   "source": [
    "import torch\n",
    "\n",
    "# cosine similarity\n",
    "feat = g.x\n",
    "feat /= torch.norm(g.x, dim=1).reshape(-1,1)\n",
    "feat_sim = torch.matmul(feat, feat.T)\n",
    "# argmin\n",
    "min_idx = torch.argmin(feat_sim)\n",
    "min_row_id = int(min_idx/n_node)\n",
    "min_col_id = min_idx%n_node\n",
    "# diag set to 0\n",
    "diag = torch.diagonal(feat_sim)\n",
    "diag_mat = torch.diag(diag)\n",
    "feat_sim -= diag_mat\n",
    "# argmax\n",
    "max_idx = torch.argmax(feat_sim)\n",
    "max_row_id = int(max_idx/n_node)\n",
    "max_col_id = max_idx%n_node\n",
    "\n",
    "print(f\"feature similarity: max pair:{max_col_id}-{max_row_id}, min pair:{min_col_id}-{min_row_id}\")"
   ],
   "metadata": {
    "collapsed": false,
    "pycharm": {
     "name": "#%%\n"
    }
   }
  },
  {
   "cell_type": "code",
   "execution_count": null,
   "outputs": [],
   "source": [
    "sim1 = nx.simrank_similarity(graph,source=967,target=903)\n",
    "sim2 = nx.simrank_similarity(graph,source=21,target=0)\n",
    "sim1, sim2"
   ],
   "metadata": {
    "collapsed": false,
    "pycharm": {
     "name": "#%%\n",
     "is_executing": true
    }
   }
  },
  {
   "cell_type": "code",
   "execution_count": null,
   "outputs": [],
   "source": [
    "x = torch.tensor([[1.,2,3,5],[7,4,100,6],[20,7,8,9]])\n",
    "norm = torch.norm(x,dim=1).reshape(-1,1)\n",
    "x /= norm\n",
    "x"
   ],
   "metadata": {
    "collapsed": false,
    "pycharm": {
     "name": "#%%\n",
     "is_executing": true
    }
   }
  },
  {
   "cell_type": "code",
   "execution_count": null,
   "outputs": [],
   "source": [
    "4%3"
   ],
   "metadata": {
    "collapsed": false,
    "pycharm": {
     "name": "#%%\n",
     "is_executing": true
    }
   }
  },
  {
   "cell_type": "code",
   "execution_count": null,
   "outputs": [],
   "source": [],
   "metadata": {
    "collapsed": false,
    "pycharm": {
     "name": "#%%\n",
     "is_executing": true
    }
   }
  }
 ],
 "metadata": {
  "kernelspec": {
   "display_name": "Python 3",
   "language": "python",
   "name": "python3"
  },
  "language_info": {
   "codemirror_mode": {
    "name": "ipython",
    "version": 2
   },
   "file_extension": ".py",
   "mimetype": "text/x-python",
   "name": "python",
   "nbconvert_exporter": "python",
   "pygments_lexer": "ipython2",
   "version": "2.7.6"
  }
 },
 "nbformat": 4,
 "nbformat_minor": 0
}